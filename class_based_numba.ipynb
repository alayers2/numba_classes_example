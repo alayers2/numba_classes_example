{
 "cells": [
  {
   "cell_type": "code",
   "execution_count": null,
   "metadata": {
    "pycharm": {
     "is_executing": true,
     "name": "#%%\n"
    }
   },
   "outputs": [],
   "source": [
    "# Method 1 - Baseline Implementation\n",
    "# Note that I've made the input arrays smaller for the sake of not running the full\n",
    "# timing test each time.\n",
    "import timeit\n",
    "setup = \"\"\"\n",
    "from calculators.heat_index_calculator import HeatIndexCalculator\n",
    "import numpy as np\n",
    "temp = np.random.default_rng().uniform(\n",
    "    low=50,\n",
    "    high=100,\n",
    "    size=(1, 1800, 3600)\n",
    ")\n",
    "rh = np.random.default_rng().uniform(\n",
    "    low=0.05,\n",
    "    high=0.95,\n",
    "    size=(1, 1800, 3600)\n",
    ")\n",
    "\"\"\"\n",
    "\n",
    "run = \"\"\"\n",
    "calc = HeatIndexCalculator()\n",
    "hi = calc.calculate_heat_index(temp, rh)\n",
    "\"\"\"\n",
    "\n",
    "iterations = 1\n",
    "result = timeit.Timer(run, setup=setup).repeat(1, iterations)\n",
    "print(f\"Minimum time iteration {min(result)/iterations}\")"
   ]
  },
  {
   "cell_type": "code",
   "execution_count": null,
   "metadata": {
    "pycharm": {
     "name": "#%%\n"
    }
   },
   "outputs": [],
   "source": [
    "# Method 2 - Numpy Implementation\n",
    "setup = \"\"\"\n",
    "from calculators.numpy_heat_index_calculator import NumpyHeatIndexCalculator\n",
    "import numpy as np\n",
    "temp = np.random.default_rng().uniform(\n",
    "    low=50,\n",
    "    high=100,\n",
    "    size=(24, 1800, 3600)\n",
    ")\n",
    "rh = np.random.default_rng().uniform(\n",
    "    low=0.05,\n",
    "    high=0.95,\n",
    "    size=(24, 1800, 3600)\n",
    ")\n",
    "\"\"\"\n",
    "\n",
    "run = \"\"\"\n",
    "calc = NumpyHeatIndexCalculator()\n",
    "hi = calc.calculate_heat_index(temp, rh)\n",
    "\"\"\"\n",
    "iterations = 3\n",
    "result = timeit.Timer(run, setup=setup).repeat(3, iterations)\n",
    "print(f\"Minimum time iteration {min(result)/iterations}\")\n"
   ]
  },
  {
   "cell_type": "code",
   "execution_count": null,
   "metadata": {
    "pycharm": {
     "name": "#%%\n"
    }
   },
   "outputs": [],
   "source": [
    "# Method 3 - Numba 'jitclass' Implementation\n",
    "import timeit\n",
    "setup = \"\"\"\n",
    "from calculators.numba_heat_index_calculator import NumbaHeatIndexCalculator\n",
    "import numpy as np\n",
    "temp = np.random.default_rng().uniform(\n",
    "    low=50,\n",
    "    high=100,\n",
    "    size=(24, 1800, 3600)\n",
    ")\n",
    "rh = np.random.default_rng().uniform(\n",
    "    low=0.05,\n",
    "    high=0.95,\n",
    "    size=(24, 1800, 3600)\n",
    ")\n",
    "\"\"\"\n",
    "\n",
    "\n",
    "run = \"\"\"\n",
    "calc = NumbaHeatIndexCalculator()\n",
    "hi = calc.calculate_heat_index(temp, rh)\n",
    "\"\"\"\n",
    "iterations = 5\n",
    "result = timeit.Timer(run, setup=setup).repeat(5, iterations)\n",
    "print(f\"Minimum time iteration {min(result)/iterations}\")\n",
    "\n"
   ]
  },
  {
   "cell_type": "code",
   "execution_count": null,
   "metadata": {
    "pycharm": {
     "name": "#%%\n"
    }
   },
   "outputs": [],
   "source": [
    "# Method 4 - Numba Non-Class Implementation\n",
    "import timeit\n",
    "setup = \"\"\"\n",
    "from calculators.numba_vectorized_heat_index import calculate_heat_index\n",
    "import numpy as np\n",
    "temp = np.random.default_rng().uniform(\n",
    "    low=50,\n",
    "    high=100,\n",
    "    size=(24, 1800, 3600)\n",
    ")\n",
    "rh = np.random.default_rng().uniform(\n",
    "    low=0.05,\n",
    "    high=0.95,\n",
    "    size=(24, 1800, 3600)\n",
    ")\n",
    "\"\"\"\n",
    "\n",
    "iterations = 5\n",
    "result = timeit.Timer('hi = calculate_heat_index(temp, rh)', setup=setup).repeat(5, iterations)\n",
    "print(f\"Minimum time iteration {min(result)/iterations}\")"
   ]
  }
 ],
 "metadata": {
  "git": {
   "suppress_outputs": true
  },
  "kernelspec": {
   "display_name": "Python 3",
   "language": "python",
   "name": "python3"
  },
  "language_info": {
   "codemirror_mode": {
    "name": "ipython",
    "version": 3
   },
   "file_extension": ".py",
   "mimetype": "text/x-python",
   "name": "python",
   "nbconvert_exporter": "python",
   "pygments_lexer": "ipython3",
   "version": "3.7.0"
  }
 },
 "nbformat": 4,
 "nbformat_minor": 1
}

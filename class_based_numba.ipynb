{
 "cells": [
  {
   "cell_type": "code",
   "execution_count": 11,
   "outputs": [],
   "source": [
    "# Method 1 - loops with base Python implementation\n",
    "import timeit\n",
    "setup = \"\"\"\n",
    "from calculators.heat_index_calculator import HeatIndexCalculator\n",
    "import numpy as np\n",
    "temp = np.random.default_rng().uniform(low=50, high=100, size=(24, 1800, 3600))\n",
    "rh = np.random.default_rng().uniform(low=0.05, high=0.95, size=(24, 1800, 3600))\n",
    "\"\"\"\n",
    "\n",
    "run_loop = \"\"\"\n",
    "calc = HeatIndexCalculator()\n",
    "calc.calculate_heat_index(temp, rh)\n",
    "\"\"\"\n",
    "\n",
    "iterations = 1\n",
    "result = timeit.Timer(run_loop, setup=setup).repeat(1, iterations)\n",
    "print(f\"Minimum time iteration {min(result)/iterations}\")"
   ],
   "metadata": {
    "collapsed": false,
    "pycharm": {
     "name": "#%%\n"
    }
   }
  },
  {
   "cell_type": "code",
   "execution_count": 12,
   "outputs": [
    {
     "name": "stderr",
     "output_type": "stream",
     "text": [
      "/Users/Andy/repos/numba_test/heat_index_calculator.py:87: RuntimeWarning: invalid value encountered in sqrt\n",
      "  return ((13 - rh) / 4.0) * np.sqrt((17 - abs(temp - 95.0)) / 17)\n"
     ]
    },
    {
     "name": "stdout",
     "output_type": "stream",
     "text": [
      "Minimum time iteration 20.245064110333413\n"
     ]
    }
   ],
   "source": [
    "setup = \"\"\"\n",
    "from calculators.numpy_heat_index_calculator import NumpyHeatIndexCalculator\n",
    "import numpy as np\n",
    "temp = np.random.default_rng().uniform(low=50, high=100, size=(24, 1800, 3600))\n",
    "rh = np.random.default_rng().uniform(low=0.05, high=0.95, size=(24, 1800, 3600))\n",
    "\"\"\"\n",
    "\n",
    "\n",
    "run_loop = \"\"\"\n",
    "calc = NumpyHeatIndexCalculator()\n",
    "calc.calculate_heat_index(temp, rh)\n",
    "\"\"\"\n",
    "iterations = 3\n",
    "result = timeit.Timer(run_loop, setup=setup).repeat(3, iterations)\n",
    "print(f\"Minimum time iteration {min(result)/iterations}\")\n"
   ],
   "metadata": {
    "collapsed": false,
    "pycharm": {
     "name": "#%%\n"
    }
   }
  },
  {
   "cell_type": "code",
   "execution_count": 13,
   "outputs": [
    {
     "name": "stdout",
     "output_type": "stream",
     "text": [
      "Minimum time iteration 4.970875786000033\n"
     ]
    }
   ],
   "source": [
    "import timeit\n",
    "setup = \"\"\"\n",
    "from calculators.numba_heat_index_calculator import NumbaHeatIndexCalculator\n",
    "import numpy as np\n",
    "temp = np.random.default_rng().uniform(low=50, high=100, size=(24, 1800, 3600))\n",
    "rh = np.random.default_rng().uniform(low=0.05, high=0.95, size=(24, 1800, 3600))\n",
    "\"\"\"\n",
    "\n",
    "\n",
    "run_loop = \"\"\"\n",
    "calc = NumbaHeatIndexCalculator()\n",
    "calc.calculate_heat_index(temp, rh)\n",
    "\"\"\"\n",
    "iterations = 5\n",
    "result = timeit.Timer(run_loop, setup=setup).repeat(5, iterations)\n",
    "print(f\"Minimum time iteration {min(result)/iterations}\")\n",
    "\n"
   ],
   "metadata": {
    "collapsed": false,
    "pycharm": {
     "name": "#%%\n"
    }
   }
  },
  {
   "cell_type": "code",
   "execution_count": 14,
   "outputs": [
    {
     "name": "stdout",
     "output_type": "stream",
     "text": [
      "Minimum time iteration 0.2746750606000205\n"
     ]
    }
   ],
   "source": [
    "import timeit\n",
    "setup = \"\"\"\n",
    "from calculators.numba_vectorized_heat_index import calculate_heat_index\n",
    "import numpy as np\n",
    "temp = np.random.default_rng().uniform(low=50, high=100, size=(24, 1800, 3600))\n",
    "rh = np.random.default_rng().uniform(low=0.05, high=0.95, size=(24, 1800, 3600))\n",
    "\"\"\"\n",
    "\n",
    "iterations = 5\n",
    "result = timeit.Timer('hi = calculate_heat_index(temp, rh)', setup=setup).repeat(5, iterations)\n",
    "print(f\"Minimum time iteration {min(result)/iterations}\")"
   ],
   "metadata": {
    "collapsed": false,
    "pycharm": {
     "name": "#%%\n"
    }
   }
  }
 ],
 "metadata": {
  "kernelspec": {
   "display_name": "Python 3",
   "language": "python",
   "name": "python3"
  },
  "language_info": {
   "codemirror_mode": {
    "name": "ipython",
    "version": 2
   },
   "file_extension": ".py",
   "mimetype": "text/x-python",
   "name": "python",
   "nbconvert_exporter": "python",
   "pygments_lexer": "ipython2",
   "version": "2.7.6"
  }
 },
 "nbformat": 4,
 "nbformat_minor": 0
}
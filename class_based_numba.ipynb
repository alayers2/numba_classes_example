{
 "cells": [
  {
   "cell_type": "code",
   "execution_count": null,
   "metadata": {
    "pycharm": {
     "is_executing": true,
     "name": "#%%\n"
    }
   },
   "outputs": [],
   "source": [
    "# Method 1 - Baseline Implementation\n",
    "import timeit\n",
    "setup = \"\"\"\n",
    "from calculators.heat_index_calculator import HeatIndexCalculator\n",
    "import numpy as np\n",
    "temp = np.random.default_rng().uniform(\n",
    "    low=50,\n",
    "    high=100,\n",
    "    size=(24, 1800, 3600)\n",
    ")\n",
    "rh = np.random.default_rng().uniform(\n",
    "    low=0.05,\n",
    "    high=0.95,\n",
    "    size=(24, 1800, 3600)\n",
    ")\n",
    "\"\"\"\n",
    "\n",
    "run = \"\"\"\n",
    "calc = HeatIndexCalculator()\n",
    "calc.calculate_heat_index(temp, rh)\n",
    "\"\"\"\n",
    "\n",
    "iterations = 1\n",
    "result = timeit.Timer(run, setup=setup).repeat(1, iterations)\n",
    "print(f\"Minimum time iteration {min(result)/iterations}\")"
   ]
  },
  {
   "cell_type": "code",
   "execution_count": 12,
   "metadata": {
    "pycharm": {
     "name": "#%%\n"
    }
   },
   "outputs": [
    {
     "name": "stderr",
     "output_type": "stream",
     "text": [
      "/Users/Andy/repos/numba_test/heat_index_calculator.py:87: RuntimeWarning: invalid value encountered in sqrt\n",
      "  return ((13 - rh) / 4.0) * np.sqrt((17 - abs(temp - 95.0)) / 17)\n"
     ]
    },
    {
     "name": "stdout",
     "output_type": "stream",
     "text": [
      "Minimum time iteration 20.245064110333413\n"
     ]
    }
   ],
   "source": [
    "# Method 2 - Numpy Implementation\n",
    "setup = \"\"\"\n",
    "from calculators.numpy_heat_index_calculator import NumpyHeatIndexCalculator\n",
    "import numpy as np\n",
    "temp = np.random.default_rng().uniform(\n",
    "    low=50,\n",
    "    high=100,\n",
    "    size=(24, 1800, 3600)\n",
    ")\n",
    "rh = np.random.default_rng().uniform(\n",
    "    low=0.05,\n",
    "    high=0.95,\n",
    "    size=(24, 1800, 3600)\n",
    ")\n",
    "\"\"\"\n",
    "\n",
    "run = \"\"\"\n",
    "calc = NumpyHeatIndexCalculator()\n",
    "calc.calculate_heat_index(temp, rh)\n",
    "\"\"\"\n",
    "iterations = 3\n",
    "result = timeit.Timer(run, setup=setup).repeat(3, iterations)\n",
    "print(f\"Minimum time iteration {min(result)/iterations}\")\n"
   ]
  },
  {
   "cell_type": "code",
   "execution_count": 13,
   "metadata": {
    "pycharm": {
     "name": "#%%\n"
    }
   },
   "outputs": [
    {
     "name": "stdout",
     "output_type": "stream",
     "text": [
      "Minimum time iteration 4.970875786000033\n"
     ]
    }
   ],
   "source": [
    "# Method 3 - Numba 'jitclass' Implementation\n",
    "import timeit\n",
    "setup = \"\"\"\n",
    "from calculators.numba_heat_index_calculator import NumbaHeatIndexCalculator\n",
    "import numpy as np\n",
    "temp = np.random.default_rng().uniform(\n",
    "    low=50,\n",
    "    high=100,\n",
    "    size=(24, 1800, 3600)\n",
    ")\n",
    "rh = np.random.default_rng().uniform(\n",
    "    low=0.05,\n",
    "    high=0.95,\n",
    "    size=(24, 1800, 3600)\n",
    ")\n",
    "\"\"\"\n",
    "\n",
    "\n",
    "run = \"\"\"\n",
    "calc = NumbaHeatIndexCalculator()\n",
    "calc.calculate_heat_index(temp, rh)\n",
    "\"\"\"\n",
    "iterations = 5\n",
    "result = timeit.Timer(run, setup=setup).repeat(5, iterations)\n",
    "print(f\"Minimum time iteration {min(result)/iterations}\")\n",
    "\n"
   ]
  },
  {
   "cell_type": "code",
   "execution_count": 14,
   "metadata": {
    "pycharm": {
     "name": "#%%\n"
    }
   },
   "outputs": [
    {
     "name": "stdout",
     "output_type": "stream",
     "text": [
      "Minimum time iteration 0.2746750606000205\n"
     ]
    }
   ],
   "source": [
    "# Method 4 - Numba Non-Class Implementation\n",
    "import timeit\n",
    "setup = \"\"\"\n",
    "from calculators.numba_vectorized_heat_index import calculate_heat_index\n",
    "import numpy as np\n",
    "temp = np.random.default_rng().uniform(\n",
    "    low=50,\n",
    "    high=100,\n",
    "    size=(24, 1800, 3600)\n",
    ")\n",
    "rh = np.random.default_rng().uniform(\n",
    "    low=0.05,\n",
    "    high=0.95,\n",
    "    size=(24, 1800, 3600)\n",
    ")\n",
    "\"\"\"\n",
    "\n",
    "iterations = 5\n",
    "result = timeit.Timer('hi = calculate_heat_index(temp, rh)', setup=setup).repeat(5, iterations)\n",
    "print(f\"Minimum time iteration {min(result)/iterations}\")"
   ]
  }
 ],
 "metadata": {
  "kernelspec": {
   "display_name": "Python 3",
   "language": "python",
   "name": "python3"
  },
  "language_info": {
   "codemirror_mode": {
    "name": "ipython",
    "version": 3
   },
   "file_extension": ".py",
   "mimetype": "text/x-python",
   "name": "python",
   "nbconvert_exporter": "python",
   "pygments_lexer": "ipython3",
   "version": "3.7.0"
  },
  "git": {
   "suppress_outputs": true
  }
 },
 "nbformat": 4,
 "nbformat_minor": 1
}